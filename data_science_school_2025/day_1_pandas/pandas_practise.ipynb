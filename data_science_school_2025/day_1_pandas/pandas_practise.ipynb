{
 "nbformat": 4,
 "nbformat_minor": 0,
 "metadata": {
  "colab": {
   "provenance": []
  },
  "kernelspec": {
   "name": "python3",
   "display_name": "Python 3 (ipykernel)",
   "language": "python"
  },
  "language_info": {
   "name": "python"
  }
 },
 "cells": [
  {
   "cell_type": "markdown",
   "source": [
    "Частина 1: Завантаження та первинний огляд"
   ],
   "metadata": {
    "id": "XV1o3tXTbRWS"
   }
  },
  {
   "cell_type": "code",
   "metadata": {
    "colab": {
     "base_uri": "https://localhost:8080/"
    },
    "id": "f579aOO6Z5T4",
    "outputId": "7fa66bc2-9eb7-4472-c393-54369d3318bf",
    "ExecuteTime": {
     "end_time": "2025-07-24T18:37:58.910116Z",
     "start_time": "2025-07-24T18:37:58.094054Z"
    }
   },
   "source": [
    "!git clone https://github.com/Godod/pandas-workshop"
   ],
   "outputs": [
    {
     "name": "stdout",
     "output_type": "stream",
     "text": [
      "Cloning into 'pandas-workshop'...\r\n",
      "remote: Enumerating objects: 13, done.\u001B[K\r\n",
      "remote: Counting objects: 100% (13/13), done.\u001B[K\r\n",
      "remote: Compressing objects: 100% (11/11), done.\u001B[K\r\n",
      "remote: Total 13 (delta 2), reused 8 (delta 1), pack-reused 0 (from 0)\u001B[K\r\n",
      "Receiving objects: 100% (13/13), 53.84 KiB | 1.54 MiB/s, done.\r\n",
      "Resolving deltas: 100% (2/2), done.\r\n"
     ]
    }
   ],
   "execution_count": 56
  },
  {
   "cell_type": "code",
   "source": "!unzip ./pandas-workshop/work/e-commerce-customer-behavior-dataset.zip -d .",
   "metadata": {
    "colab": {
     "base_uri": "https://localhost:8080/"
    },
    "id": "-dvD9P_FaviG",
    "outputId": "43c92c81-6bd5-4016-e26f-ed70b6c8d7f0",
    "ExecuteTime": {
     "end_time": "2025-07-24T18:37:59.043479Z",
     "start_time": "2025-07-24T18:37:58.916416Z"
    }
   },
   "outputs": [
    {
     "name": "stdout",
     "output_type": "stream",
     "text": [
      "Archive:  ./pandas-workshop/work/e-commerce-customer-behavior-dataset.zip\r\n",
      "  inflating: ./E-commerce Customer Behavior - Sheet1.csv  \r\n"
     ]
    }
   ],
   "execution_count": 57
  },
  {
   "cell_type": "code",
   "source": [
    "# 1. Імпортуйте бібліотеку Pandas.\n",
    "import pandas as pd\n",
    "pd.options.display.float_format = '{:.2f}'.format"
   ],
   "metadata": {
    "id": "lIx0L3ykbOcI",
    "ExecuteTime": {
     "end_time": "2025-07-24T18:37:59.063120Z",
     "start_time": "2025-07-24T18:37:59.061164Z"
    }
   },
   "outputs": [],
   "execution_count": 58
  },
  {
   "cell_type": "markdown",
   "source": [],
   "metadata": {
    "id": "D6lMNuj3bXgF"
   }
  },
  {
   "cell_type": "code",
   "source": [
    "# 2. Завантажте дані з папки work в DataFrame df.\n",
    "path = './E-commerce Customer Behavior - Sheet1.csv'\n",
    "df = pd.read_csv(path, encoding='latin-1')"
   ],
   "metadata": {
    "id": "c2lbvgplav-8",
    "ExecuteTime": {
     "end_time": "2025-07-24T18:37:59.080673Z",
     "start_time": "2025-07-24T18:37:59.076021Z"
    }
   },
   "outputs": [],
   "execution_count": 59
  },
  {
   "cell_type": "code",
   "source": [
    "# 3. Проведіть первинний огляд даних:\n",
    "# 3.1 Виведіть перші 5 рядків (.head()).\n",
    "df.head(5)"
   ],
   "metadata": {
    "colab": {
     "base_uri": "https://localhost:8080/",
     "height": 206
    },
    "id": "baT6eoVUbwj2",
    "outputId": "683d20fb-c235-4d3d-d504-c6780465326d",
    "ExecuteTime": {
     "end_time": "2025-07-24T18:37:59.099290Z",
     "start_time": "2025-07-24T18:37:59.094080Z"
    }
   },
   "outputs": [
    {
     "data": {
      "text/plain": [
       "   Customer ID  Gender  Age           City Membership Type  Total Spend  \\\n",
       "0          101  Female   29       New York            Gold      1120.20   \n",
       "1          102    Male   34    Los Angeles          Silver       780.50   \n",
       "2          103  Female   43        Chicago          Bronze       510.75   \n",
       "3          104    Male   30  San Francisco            Gold      1480.30   \n",
       "4          105    Male   27          Miami          Silver       720.40   \n",
       "\n",
       "   Items Purchased  Average Rating  Discount Applied  \\\n",
       "0               14            4.60              True   \n",
       "1               11            4.10             False   \n",
       "2                9            3.40              True   \n",
       "3               19            4.70             False   \n",
       "4               13            4.00              True   \n",
       "\n",
       "   Days Since Last Purchase Satisfaction Level  \n",
       "0                        25          Satisfied  \n",
       "1                        18            Neutral  \n",
       "2                        42        Unsatisfied  \n",
       "3                        12          Satisfied  \n",
       "4                        55        Unsatisfied  "
      ],
      "text/html": [
       "<div>\n",
       "<style scoped>\n",
       "    .dataframe tbody tr th:only-of-type {\n",
       "        vertical-align: middle;\n",
       "    }\n",
       "\n",
       "    .dataframe tbody tr th {\n",
       "        vertical-align: top;\n",
       "    }\n",
       "\n",
       "    .dataframe thead th {\n",
       "        text-align: right;\n",
       "    }\n",
       "</style>\n",
       "<table border=\"1\" class=\"dataframe\">\n",
       "  <thead>\n",
       "    <tr style=\"text-align: right;\">\n",
       "      <th></th>\n",
       "      <th>Customer ID</th>\n",
       "      <th>Gender</th>\n",
       "      <th>Age</th>\n",
       "      <th>City</th>\n",
       "      <th>Membership Type</th>\n",
       "      <th>Total Spend</th>\n",
       "      <th>Items Purchased</th>\n",
       "      <th>Average Rating</th>\n",
       "      <th>Discount Applied</th>\n",
       "      <th>Days Since Last Purchase</th>\n",
       "      <th>Satisfaction Level</th>\n",
       "    </tr>\n",
       "  </thead>\n",
       "  <tbody>\n",
       "    <tr>\n",
       "      <th>0</th>\n",
       "      <td>101</td>\n",
       "      <td>Female</td>\n",
       "      <td>29</td>\n",
       "      <td>New York</td>\n",
       "      <td>Gold</td>\n",
       "      <td>1120.20</td>\n",
       "      <td>14</td>\n",
       "      <td>4.60</td>\n",
       "      <td>True</td>\n",
       "      <td>25</td>\n",
       "      <td>Satisfied</td>\n",
       "    </tr>\n",
       "    <tr>\n",
       "      <th>1</th>\n",
       "      <td>102</td>\n",
       "      <td>Male</td>\n",
       "      <td>34</td>\n",
       "      <td>Los Angeles</td>\n",
       "      <td>Silver</td>\n",
       "      <td>780.50</td>\n",
       "      <td>11</td>\n",
       "      <td>4.10</td>\n",
       "      <td>False</td>\n",
       "      <td>18</td>\n",
       "      <td>Neutral</td>\n",
       "    </tr>\n",
       "    <tr>\n",
       "      <th>2</th>\n",
       "      <td>103</td>\n",
       "      <td>Female</td>\n",
       "      <td>43</td>\n",
       "      <td>Chicago</td>\n",
       "      <td>Bronze</td>\n",
       "      <td>510.75</td>\n",
       "      <td>9</td>\n",
       "      <td>3.40</td>\n",
       "      <td>True</td>\n",
       "      <td>42</td>\n",
       "      <td>Unsatisfied</td>\n",
       "    </tr>\n",
       "    <tr>\n",
       "      <th>3</th>\n",
       "      <td>104</td>\n",
       "      <td>Male</td>\n",
       "      <td>30</td>\n",
       "      <td>San Francisco</td>\n",
       "      <td>Gold</td>\n",
       "      <td>1480.30</td>\n",
       "      <td>19</td>\n",
       "      <td>4.70</td>\n",
       "      <td>False</td>\n",
       "      <td>12</td>\n",
       "      <td>Satisfied</td>\n",
       "    </tr>\n",
       "    <tr>\n",
       "      <th>4</th>\n",
       "      <td>105</td>\n",
       "      <td>Male</td>\n",
       "      <td>27</td>\n",
       "      <td>Miami</td>\n",
       "      <td>Silver</td>\n",
       "      <td>720.40</td>\n",
       "      <td>13</td>\n",
       "      <td>4.00</td>\n",
       "      <td>True</td>\n",
       "      <td>55</td>\n",
       "      <td>Unsatisfied</td>\n",
       "    </tr>\n",
       "  </tbody>\n",
       "</table>\n",
       "</div>"
      ]
     },
     "execution_count": 60,
     "metadata": {},
     "output_type": "execute_result"
    }
   ],
   "execution_count": 60
  },
  {
   "cell_type": "code",
   "source": [
    "# 3.2 Перевірте розмір DataFrame (.shape).\n",
    "df.shape"
   ],
   "metadata": {
    "colab": {
     "base_uri": "https://localhost:8080/"
    },
    "id": "aCwTKNV7b4RN",
    "outputId": "0abe20f6-bc7d-4fbb-bf2c-501544bd315e",
    "ExecuteTime": {
     "end_time": "2025-07-24T18:37:59.133422Z",
     "start_time": "2025-07-24T18:37:59.130789Z"
    }
   },
   "outputs": [
    {
     "data": {
      "text/plain": [
       "(350, 11)"
      ]
     },
     "execution_count": 61,
     "metadata": {},
     "output_type": "execute_result"
    }
   ],
   "execution_count": 61
  },
  {
   "cell_type": "code",
   "source": [
    "# 3.3 Вивчіть інформацію про стовпці, їх типи та наявність пропущених значень (.info()).\n",
    "df.info()"
   ],
   "metadata": {
    "colab": {
     "base_uri": "https://localhost:8080/"
    },
    "id": "Ae97kCY2b_FQ",
    "outputId": "3c7dc708-7de4-4a63-c714-c9e245d3245c",
    "ExecuteTime": {
     "end_time": "2025-07-24T18:37:59.165232Z",
     "start_time": "2025-07-24T18:37:59.160526Z"
    }
   },
   "outputs": [
    {
     "name": "stdout",
     "output_type": "stream",
     "text": [
      "<class 'pandas.core.frame.DataFrame'>\n",
      "RangeIndex: 350 entries, 0 to 349\n",
      "Data columns (total 11 columns):\n",
      " #   Column                    Non-Null Count  Dtype  \n",
      "---  ------                    --------------  -----  \n",
      " 0   Customer ID               350 non-null    int64  \n",
      " 1   Gender                    350 non-null    object \n",
      " 2   Age                       350 non-null    int64  \n",
      " 3   City                      350 non-null    object \n",
      " 4   Membership Type           350 non-null    object \n",
      " 5   Total Spend               350 non-null    float64\n",
      " 6   Items Purchased           350 non-null    int64  \n",
      " 7   Average Rating            350 non-null    float64\n",
      " 8   Discount Applied          350 non-null    bool   \n",
      " 9   Days Since Last Purchase  350 non-null    int64  \n",
      " 10  Satisfaction Level        348 non-null    object \n",
      "dtypes: bool(1), float64(2), int64(4), object(4)\n",
      "memory usage: 27.8+ KB\n"
     ]
    }
   ],
   "execution_count": 62
  },
  {
   "cell_type": "code",
   "source": [
    "# 3.4 Отримайте базові статистичні показники для числових стовпців (.describe()).\n",
    "df.describe()"
   ],
   "metadata": {
    "colab": {
     "base_uri": "https://localhost:8080/",
     "height": 300
    },
    "id": "Km-8ZYj9cFDq",
    "outputId": "fb080d8f-efdd-4e71-ffbc-d0fa6ec54eaf",
    "ExecuteTime": {
     "end_time": "2025-07-24T18:37:59.219081Z",
     "start_time": "2025-07-24T18:37:59.210646Z"
    }
   },
   "outputs": [
    {
     "data": {
      "text/plain": [
       "       Customer ID    Age  Total Spend  Items Purchased  Average Rating  \\\n",
       "count       350.00 350.00       350.00           350.00          350.00   \n",
       "mean        275.50  33.60       845.38            12.60            4.02   \n",
       "std         101.18   4.87       362.06             4.16            0.58   \n",
       "min         101.00  26.00       410.80             7.00            3.00   \n",
       "25%         188.25  30.00       502.00             9.00            3.50   \n",
       "50%         275.50  32.50       775.20            12.00            4.10   \n",
       "75%         362.75  37.00      1160.60            15.00            4.50   \n",
       "max         450.00  43.00      1520.10            21.00            4.90   \n",
       "\n",
       "       Days Since Last Purchase  \n",
       "count                    350.00  \n",
       "mean                      26.59  \n",
       "std                       13.44  \n",
       "min                        9.00  \n",
       "25%                       15.00  \n",
       "50%                       23.00  \n",
       "75%                       38.00  \n",
       "max                       63.00  "
      ],
      "text/html": [
       "<div>\n",
       "<style scoped>\n",
       "    .dataframe tbody tr th:only-of-type {\n",
       "        vertical-align: middle;\n",
       "    }\n",
       "\n",
       "    .dataframe tbody tr th {\n",
       "        vertical-align: top;\n",
       "    }\n",
       "\n",
       "    .dataframe thead th {\n",
       "        text-align: right;\n",
       "    }\n",
       "</style>\n",
       "<table border=\"1\" class=\"dataframe\">\n",
       "  <thead>\n",
       "    <tr style=\"text-align: right;\">\n",
       "      <th></th>\n",
       "      <th>Customer ID</th>\n",
       "      <th>Age</th>\n",
       "      <th>Total Spend</th>\n",
       "      <th>Items Purchased</th>\n",
       "      <th>Average Rating</th>\n",
       "      <th>Days Since Last Purchase</th>\n",
       "    </tr>\n",
       "  </thead>\n",
       "  <tbody>\n",
       "    <tr>\n",
       "      <th>count</th>\n",
       "      <td>350.00</td>\n",
       "      <td>350.00</td>\n",
       "      <td>350.00</td>\n",
       "      <td>350.00</td>\n",
       "      <td>350.00</td>\n",
       "      <td>350.00</td>\n",
       "    </tr>\n",
       "    <tr>\n",
       "      <th>mean</th>\n",
       "      <td>275.50</td>\n",
       "      <td>33.60</td>\n",
       "      <td>845.38</td>\n",
       "      <td>12.60</td>\n",
       "      <td>4.02</td>\n",
       "      <td>26.59</td>\n",
       "    </tr>\n",
       "    <tr>\n",
       "      <th>std</th>\n",
       "      <td>101.18</td>\n",
       "      <td>4.87</td>\n",
       "      <td>362.06</td>\n",
       "      <td>4.16</td>\n",
       "      <td>0.58</td>\n",
       "      <td>13.44</td>\n",
       "    </tr>\n",
       "    <tr>\n",
       "      <th>min</th>\n",
       "      <td>101.00</td>\n",
       "      <td>26.00</td>\n",
       "      <td>410.80</td>\n",
       "      <td>7.00</td>\n",
       "      <td>3.00</td>\n",
       "      <td>9.00</td>\n",
       "    </tr>\n",
       "    <tr>\n",
       "      <th>25%</th>\n",
       "      <td>188.25</td>\n",
       "      <td>30.00</td>\n",
       "      <td>502.00</td>\n",
       "      <td>9.00</td>\n",
       "      <td>3.50</td>\n",
       "      <td>15.00</td>\n",
       "    </tr>\n",
       "    <tr>\n",
       "      <th>50%</th>\n",
       "      <td>275.50</td>\n",
       "      <td>32.50</td>\n",
       "      <td>775.20</td>\n",
       "      <td>12.00</td>\n",
       "      <td>4.10</td>\n",
       "      <td>23.00</td>\n",
       "    </tr>\n",
       "    <tr>\n",
       "      <th>75%</th>\n",
       "      <td>362.75</td>\n",
       "      <td>37.00</td>\n",
       "      <td>1160.60</td>\n",
       "      <td>15.00</td>\n",
       "      <td>4.50</td>\n",
       "      <td>38.00</td>\n",
       "    </tr>\n",
       "    <tr>\n",
       "      <th>max</th>\n",
       "      <td>450.00</td>\n",
       "      <td>43.00</td>\n",
       "      <td>1520.10</td>\n",
       "      <td>21.00</td>\n",
       "      <td>4.90</td>\n",
       "      <td>63.00</td>\n",
       "    </tr>\n",
       "  </tbody>\n",
       "</table>\n",
       "</div>"
      ]
     },
     "execution_count": 63,
     "metadata": {},
     "output_type": "execute_result"
    }
   ],
   "execution_count": 63
  },
  {
   "cell_type": "code",
   "source": [
    "# 4.1 Обговорення в команді: Дайте відповіді на питання:\n",
    "# 4.2 Чи є в даних пропущені значення?\n",
    "# [\"Days Since Last\"]\n",
    "\n",
    "# 4.3 Чи всі стовпці мають коректний тип даних?\n",
    "# так\n",
    "\n",
    "# 4.4 Які перші спостереження ви можете зробити, дивлячись на .describe() (наприклад, середній вік клієнтів, середні витрати)?\n",
    "# Середній вік клієнтів = 33.60 роки, з відхиленням 4.87 років. Середні витрати: 845.38"
   ],
   "metadata": {
    "id": "OlC7ILrEcKj_",
    "ExecuteTime": {
     "end_time": "2025-07-24T18:37:59.285687Z",
     "start_time": "2025-07-24T18:37:59.280862Z"
    }
   },
   "outputs": [],
   "execution_count": 64
  },
  {
   "cell_type": "code",
   "source": [
    "# Частина 2: Підготовка даних та створення нових ознак\n",
    "# 2.1 Створення метрики \"Вартість однієї покупки\". Часто важлива не тільки загальна сума витрат, але й середня вартість одного товару.\n",
    "# Створіть новий стовпець Avg Spend per Item, поділивши Total Spend на Items Purchased.\n",
    "# Перевірте, чи не виникає ділення на нуль. Якщо так, обробіть цей випадок.\n",
    "\n",
    "\n",
    "def calc_avg_spend_per_item(row:pd.Series) -> float:\n",
    "\n",
    "  if(row['Items Purchased']==0):\n",
    "    return 0.0\n",
    "\n",
    "  avg_spend_per_item:float = row['Total Spend']/row['Items Purchased']\n",
    "  return avg_spend_per_item\n",
    "\n",
    "df['Avg Spend per Item'] = df.apply(calc_avg_spend_per_item, axis = 1)\n",
    "df.describe()\n"
   ],
   "metadata": {
    "colab": {
     "base_uri": "https://localhost:8080/",
     "height": 300
    },
    "id": "pslNr8tHdUwx",
    "outputId": "a7b623e7-148d-4b8a-d22d-5e45729d2094",
    "ExecuteTime": {
     "end_time": "2025-07-24T18:37:59.329645Z",
     "start_time": "2025-07-24T18:37:59.317089Z"
    }
   },
   "outputs": [
    {
     "data": {
      "text/plain": [
       "       Customer ID    Age  Total Spend  Items Purchased  Average Rating  \\\n",
       "count       350.00 350.00       350.00           350.00          350.00   \n",
       "mean        275.50  33.60       845.38            12.60            4.02   \n",
       "std         101.18   4.87       362.06             4.16            0.58   \n",
       "min         101.00  26.00       410.80             7.00            3.00   \n",
       "25%         188.25  30.00       502.00             9.00            3.50   \n",
       "50%         275.50  32.50       775.20            12.00            4.10   \n",
       "75%         362.75  37.00      1160.60            15.00            4.50   \n",
       "max         450.00  43.00      1520.10            21.00            4.90   \n",
       "\n",
       "       Days Since Last Purchase  Avg Spend per Item  \n",
       "count                    350.00              350.00  \n",
       "mean                      26.59               65.23  \n",
       "std                       13.44                9.00  \n",
       "min                        9.00               49.52  \n",
       "25%                       15.00               57.37  \n",
       "50%                       23.00               67.03  \n",
       "75%                       38.00               73.03  \n",
       "max                       63.00               83.59  "
      ],
      "text/html": [
       "<div>\n",
       "<style scoped>\n",
       "    .dataframe tbody tr th:only-of-type {\n",
       "        vertical-align: middle;\n",
       "    }\n",
       "\n",
       "    .dataframe tbody tr th {\n",
       "        vertical-align: top;\n",
       "    }\n",
       "\n",
       "    .dataframe thead th {\n",
       "        text-align: right;\n",
       "    }\n",
       "</style>\n",
       "<table border=\"1\" class=\"dataframe\">\n",
       "  <thead>\n",
       "    <tr style=\"text-align: right;\">\n",
       "      <th></th>\n",
       "      <th>Customer ID</th>\n",
       "      <th>Age</th>\n",
       "      <th>Total Spend</th>\n",
       "      <th>Items Purchased</th>\n",
       "      <th>Average Rating</th>\n",
       "      <th>Days Since Last Purchase</th>\n",
       "      <th>Avg Spend per Item</th>\n",
       "    </tr>\n",
       "  </thead>\n",
       "  <tbody>\n",
       "    <tr>\n",
       "      <th>count</th>\n",
       "      <td>350.00</td>\n",
       "      <td>350.00</td>\n",
       "      <td>350.00</td>\n",
       "      <td>350.00</td>\n",
       "      <td>350.00</td>\n",
       "      <td>350.00</td>\n",
       "      <td>350.00</td>\n",
       "    </tr>\n",
       "    <tr>\n",
       "      <th>mean</th>\n",
       "      <td>275.50</td>\n",
       "      <td>33.60</td>\n",
       "      <td>845.38</td>\n",
       "      <td>12.60</td>\n",
       "      <td>4.02</td>\n",
       "      <td>26.59</td>\n",
       "      <td>65.23</td>\n",
       "    </tr>\n",
       "    <tr>\n",
       "      <th>std</th>\n",
       "      <td>101.18</td>\n",
       "      <td>4.87</td>\n",
       "      <td>362.06</td>\n",
       "      <td>4.16</td>\n",
       "      <td>0.58</td>\n",
       "      <td>13.44</td>\n",
       "      <td>9.00</td>\n",
       "    </tr>\n",
       "    <tr>\n",
       "      <th>min</th>\n",
       "      <td>101.00</td>\n",
       "      <td>26.00</td>\n",
       "      <td>410.80</td>\n",
       "      <td>7.00</td>\n",
       "      <td>3.00</td>\n",
       "      <td>9.00</td>\n",
       "      <td>49.52</td>\n",
       "    </tr>\n",
       "    <tr>\n",
       "      <th>25%</th>\n",
       "      <td>188.25</td>\n",
       "      <td>30.00</td>\n",
       "      <td>502.00</td>\n",
       "      <td>9.00</td>\n",
       "      <td>3.50</td>\n",
       "      <td>15.00</td>\n",
       "      <td>57.37</td>\n",
       "    </tr>\n",
       "    <tr>\n",
       "      <th>50%</th>\n",
       "      <td>275.50</td>\n",
       "      <td>32.50</td>\n",
       "      <td>775.20</td>\n",
       "      <td>12.00</td>\n",
       "      <td>4.10</td>\n",
       "      <td>23.00</td>\n",
       "      <td>67.03</td>\n",
       "    </tr>\n",
       "    <tr>\n",
       "      <th>75%</th>\n",
       "      <td>362.75</td>\n",
       "      <td>37.00</td>\n",
       "      <td>1160.60</td>\n",
       "      <td>15.00</td>\n",
       "      <td>4.50</td>\n",
       "      <td>38.00</td>\n",
       "      <td>73.03</td>\n",
       "    </tr>\n",
       "    <tr>\n",
       "      <th>max</th>\n",
       "      <td>450.00</td>\n",
       "      <td>43.00</td>\n",
       "      <td>1520.10</td>\n",
       "      <td>21.00</td>\n",
       "      <td>4.90</td>\n",
       "      <td>63.00</td>\n",
       "      <td>83.59</td>\n",
       "    </tr>\n",
       "  </tbody>\n",
       "</table>\n",
       "</div>"
      ]
     },
     "execution_count": 65,
     "metadata": {},
     "output_type": "execute_result"
    }
   ],
   "execution_count": 65
  },
  {
   "cell_type": "code",
   "source": [
    "# 2.2 Створення сегментів за активністю. Клієнтів часто ділять на активних та тих, хто давно не робив покупок.\n",
    "# Створіть стовпець Activity Status. Якщо Days Since Last Purchase менше 30, присвойте значення 'Active', інакше — 'Inactive'.\n",
    "# Підказка: Для цього зручно використовувати функцію apply з lambda-виразом.\n",
    "\n",
    "df['Activity Status'] = df['Days Since Last Purchase'].apply(\n",
    "    lambda x: 'Active' if x < 30 else 'Inactive'\n",
    ")\n",
    "df.head(5)\n"
   ],
   "metadata": {
    "colab": {
     "base_uri": "https://localhost:8080/",
     "height": 240
    },
    "id": "hWUSFA4hk7_V",
    "outputId": "17f3e75d-e497-4a98-9534-141ebf3c6ed7",
    "ExecuteTime": {
     "end_time": "2025-07-24T18:37:59.383358Z",
     "start_time": "2025-07-24T18:37:59.377608Z"
    }
   },
   "outputs": [
    {
     "data": {
      "text/plain": [
       "   Customer ID  Gender  Age           City Membership Type  Total Spend  \\\n",
       "0          101  Female   29       New York            Gold      1120.20   \n",
       "1          102    Male   34    Los Angeles          Silver       780.50   \n",
       "2          103  Female   43        Chicago          Bronze       510.75   \n",
       "3          104    Male   30  San Francisco            Gold      1480.30   \n",
       "4          105    Male   27          Miami          Silver       720.40   \n",
       "\n",
       "   Items Purchased  Average Rating  Discount Applied  \\\n",
       "0               14            4.60              True   \n",
       "1               11            4.10             False   \n",
       "2                9            3.40              True   \n",
       "3               19            4.70             False   \n",
       "4               13            4.00              True   \n",
       "\n",
       "   Days Since Last Purchase Satisfaction Level  Avg Spend per Item  \\\n",
       "0                        25          Satisfied               80.01   \n",
       "1                        18            Neutral               70.95   \n",
       "2                        42        Unsatisfied               56.75   \n",
       "3                        12          Satisfied               77.91   \n",
       "4                        55        Unsatisfied               55.42   \n",
       "\n",
       "  Activity Status  \n",
       "0          Active  \n",
       "1          Active  \n",
       "2        Inactive  \n",
       "3          Active  \n",
       "4        Inactive  "
      ],
      "text/html": [
       "<div>\n",
       "<style scoped>\n",
       "    .dataframe tbody tr th:only-of-type {\n",
       "        vertical-align: middle;\n",
       "    }\n",
       "\n",
       "    .dataframe tbody tr th {\n",
       "        vertical-align: top;\n",
       "    }\n",
       "\n",
       "    .dataframe thead th {\n",
       "        text-align: right;\n",
       "    }\n",
       "</style>\n",
       "<table border=\"1\" class=\"dataframe\">\n",
       "  <thead>\n",
       "    <tr style=\"text-align: right;\">\n",
       "      <th></th>\n",
       "      <th>Customer ID</th>\n",
       "      <th>Gender</th>\n",
       "      <th>Age</th>\n",
       "      <th>City</th>\n",
       "      <th>Membership Type</th>\n",
       "      <th>Total Spend</th>\n",
       "      <th>Items Purchased</th>\n",
       "      <th>Average Rating</th>\n",
       "      <th>Discount Applied</th>\n",
       "      <th>Days Since Last Purchase</th>\n",
       "      <th>Satisfaction Level</th>\n",
       "      <th>Avg Spend per Item</th>\n",
       "      <th>Activity Status</th>\n",
       "    </tr>\n",
       "  </thead>\n",
       "  <tbody>\n",
       "    <tr>\n",
       "      <th>0</th>\n",
       "      <td>101</td>\n",
       "      <td>Female</td>\n",
       "      <td>29</td>\n",
       "      <td>New York</td>\n",
       "      <td>Gold</td>\n",
       "      <td>1120.20</td>\n",
       "      <td>14</td>\n",
       "      <td>4.60</td>\n",
       "      <td>True</td>\n",
       "      <td>25</td>\n",
       "      <td>Satisfied</td>\n",
       "      <td>80.01</td>\n",
       "      <td>Active</td>\n",
       "    </tr>\n",
       "    <tr>\n",
       "      <th>1</th>\n",
       "      <td>102</td>\n",
       "      <td>Male</td>\n",
       "      <td>34</td>\n",
       "      <td>Los Angeles</td>\n",
       "      <td>Silver</td>\n",
       "      <td>780.50</td>\n",
       "      <td>11</td>\n",
       "      <td>4.10</td>\n",
       "      <td>False</td>\n",
       "      <td>18</td>\n",
       "      <td>Neutral</td>\n",
       "      <td>70.95</td>\n",
       "      <td>Active</td>\n",
       "    </tr>\n",
       "    <tr>\n",
       "      <th>2</th>\n",
       "      <td>103</td>\n",
       "      <td>Female</td>\n",
       "      <td>43</td>\n",
       "      <td>Chicago</td>\n",
       "      <td>Bronze</td>\n",
       "      <td>510.75</td>\n",
       "      <td>9</td>\n",
       "      <td>3.40</td>\n",
       "      <td>True</td>\n",
       "      <td>42</td>\n",
       "      <td>Unsatisfied</td>\n",
       "      <td>56.75</td>\n",
       "      <td>Inactive</td>\n",
       "    </tr>\n",
       "    <tr>\n",
       "      <th>3</th>\n",
       "      <td>104</td>\n",
       "      <td>Male</td>\n",
       "      <td>30</td>\n",
       "      <td>San Francisco</td>\n",
       "      <td>Gold</td>\n",
       "      <td>1480.30</td>\n",
       "      <td>19</td>\n",
       "      <td>4.70</td>\n",
       "      <td>False</td>\n",
       "      <td>12</td>\n",
       "      <td>Satisfied</td>\n",
       "      <td>77.91</td>\n",
       "      <td>Active</td>\n",
       "    </tr>\n",
       "    <tr>\n",
       "      <th>4</th>\n",
       "      <td>105</td>\n",
       "      <td>Male</td>\n",
       "      <td>27</td>\n",
       "      <td>Miami</td>\n",
       "      <td>Silver</td>\n",
       "      <td>720.40</td>\n",
       "      <td>13</td>\n",
       "      <td>4.00</td>\n",
       "      <td>True</td>\n",
       "      <td>55</td>\n",
       "      <td>Unsatisfied</td>\n",
       "      <td>55.42</td>\n",
       "      <td>Inactive</td>\n",
       "    </tr>\n",
       "  </tbody>\n",
       "</table>\n",
       "</div>"
      ]
     },
     "execution_count": 66,
     "metadata": {},
     "output_type": "execute_result"
    }
   ],
   "execution_count": 66
  },
  {
   "cell_type": "code",
   "source": [
    "# 2.3 Перевірка: Виведіть перші 5 рядків оновленого DataFrame з новими стовпцями, щоб переконатися, що все розраховано правильно.\n",
    "df.head(5)"
   ],
   "metadata": {
    "colab": {
     "base_uri": "https://localhost:8080/",
     "height": 240
    },
    "id": "GmDewluMoWer",
    "outputId": "196e79a1-fa81-47aa-82ef-d7c01d680a68",
    "ExecuteTime": {
     "end_time": "2025-07-24T18:37:59.442406Z",
     "start_time": "2025-07-24T18:37:59.437109Z"
    }
   },
   "outputs": [
    {
     "data": {
      "text/plain": [
       "   Customer ID  Gender  Age           City Membership Type  Total Spend  \\\n",
       "0          101  Female   29       New York            Gold      1120.20   \n",
       "1          102    Male   34    Los Angeles          Silver       780.50   \n",
       "2          103  Female   43        Chicago          Bronze       510.75   \n",
       "3          104    Male   30  San Francisco            Gold      1480.30   \n",
       "4          105    Male   27          Miami          Silver       720.40   \n",
       "\n",
       "   Items Purchased  Average Rating  Discount Applied  \\\n",
       "0               14            4.60              True   \n",
       "1               11            4.10             False   \n",
       "2                9            3.40              True   \n",
       "3               19            4.70             False   \n",
       "4               13            4.00              True   \n",
       "\n",
       "   Days Since Last Purchase Satisfaction Level  Avg Spend per Item  \\\n",
       "0                        25          Satisfied               80.01   \n",
       "1                        18            Neutral               70.95   \n",
       "2                        42        Unsatisfied               56.75   \n",
       "3                        12          Satisfied               77.91   \n",
       "4                        55        Unsatisfied               55.42   \n",
       "\n",
       "  Activity Status  \n",
       "0          Active  \n",
       "1          Active  \n",
       "2        Inactive  \n",
       "3          Active  \n",
       "4        Inactive  "
      ],
      "text/html": [
       "<div>\n",
       "<style scoped>\n",
       "    .dataframe tbody tr th:only-of-type {\n",
       "        vertical-align: middle;\n",
       "    }\n",
       "\n",
       "    .dataframe tbody tr th {\n",
       "        vertical-align: top;\n",
       "    }\n",
       "\n",
       "    .dataframe thead th {\n",
       "        text-align: right;\n",
       "    }\n",
       "</style>\n",
       "<table border=\"1\" class=\"dataframe\">\n",
       "  <thead>\n",
       "    <tr style=\"text-align: right;\">\n",
       "      <th></th>\n",
       "      <th>Customer ID</th>\n",
       "      <th>Gender</th>\n",
       "      <th>Age</th>\n",
       "      <th>City</th>\n",
       "      <th>Membership Type</th>\n",
       "      <th>Total Spend</th>\n",
       "      <th>Items Purchased</th>\n",
       "      <th>Average Rating</th>\n",
       "      <th>Discount Applied</th>\n",
       "      <th>Days Since Last Purchase</th>\n",
       "      <th>Satisfaction Level</th>\n",
       "      <th>Avg Spend per Item</th>\n",
       "      <th>Activity Status</th>\n",
       "    </tr>\n",
       "  </thead>\n",
       "  <tbody>\n",
       "    <tr>\n",
       "      <th>0</th>\n",
       "      <td>101</td>\n",
       "      <td>Female</td>\n",
       "      <td>29</td>\n",
       "      <td>New York</td>\n",
       "      <td>Gold</td>\n",
       "      <td>1120.20</td>\n",
       "      <td>14</td>\n",
       "      <td>4.60</td>\n",
       "      <td>True</td>\n",
       "      <td>25</td>\n",
       "      <td>Satisfied</td>\n",
       "      <td>80.01</td>\n",
       "      <td>Active</td>\n",
       "    </tr>\n",
       "    <tr>\n",
       "      <th>1</th>\n",
       "      <td>102</td>\n",
       "      <td>Male</td>\n",
       "      <td>34</td>\n",
       "      <td>Los Angeles</td>\n",
       "      <td>Silver</td>\n",
       "      <td>780.50</td>\n",
       "      <td>11</td>\n",
       "      <td>4.10</td>\n",
       "      <td>False</td>\n",
       "      <td>18</td>\n",
       "      <td>Neutral</td>\n",
       "      <td>70.95</td>\n",
       "      <td>Active</td>\n",
       "    </tr>\n",
       "    <tr>\n",
       "      <th>2</th>\n",
       "      <td>103</td>\n",
       "      <td>Female</td>\n",
       "      <td>43</td>\n",
       "      <td>Chicago</td>\n",
       "      <td>Bronze</td>\n",
       "      <td>510.75</td>\n",
       "      <td>9</td>\n",
       "      <td>3.40</td>\n",
       "      <td>True</td>\n",
       "      <td>42</td>\n",
       "      <td>Unsatisfied</td>\n",
       "      <td>56.75</td>\n",
       "      <td>Inactive</td>\n",
       "    </tr>\n",
       "    <tr>\n",
       "      <th>3</th>\n",
       "      <td>104</td>\n",
       "      <td>Male</td>\n",
       "      <td>30</td>\n",
       "      <td>San Francisco</td>\n",
       "      <td>Gold</td>\n",
       "      <td>1480.30</td>\n",
       "      <td>19</td>\n",
       "      <td>4.70</td>\n",
       "      <td>False</td>\n",
       "      <td>12</td>\n",
       "      <td>Satisfied</td>\n",
       "      <td>77.91</td>\n",
       "      <td>Active</td>\n",
       "    </tr>\n",
       "    <tr>\n",
       "      <th>4</th>\n",
       "      <td>105</td>\n",
       "      <td>Male</td>\n",
       "      <td>27</td>\n",
       "      <td>Miami</td>\n",
       "      <td>Silver</td>\n",
       "      <td>720.40</td>\n",
       "      <td>13</td>\n",
       "      <td>4.00</td>\n",
       "      <td>True</td>\n",
       "      <td>55</td>\n",
       "      <td>Unsatisfied</td>\n",
       "      <td>55.42</td>\n",
       "      <td>Inactive</td>\n",
       "    </tr>\n",
       "  </tbody>\n",
       "</table>\n",
       "</div>"
      ]
     },
     "execution_count": 67,
     "metadata": {},
     "output_type": "execute_result"
    }
   ],
   "execution_count": 67
  },
  {
   "cell_type": "code",
   "source": [
    "# Частина 3: Дослідницький аналіз\n",
    "\n",
    "# 3.1\n",
    "# Питання 1: Який тип членства є найціннішим для компанії?\n",
    "# Згрупуйте дані за Membership Type.\n",
    "# Для кожного типу розрахуйте середні Total Spend, Items Purchased та Average Rating.\n",
    "# Відсортуйте результат за середніми витратами.\n",
    "\n",
    "membership_type_analysis = df.groupby(\"Membership Type\").agg(\n",
    "    {\n",
    "        \"Total Spend\" : \"mean\",\n",
    "        \"Items Purchased\" : \"mean\",\n",
    "        \"Average Rating\" : \"mean\"\n",
    "    }\n",
    ")\n",
    "\n",
    "membership_type_analysis = membership_type_analysis.sort_values(by=\"Total Spend\", ascending=False)\n",
    "membership_type_analysis.head()"
   ],
   "metadata": {
    "colab": {
     "base_uri": "https://localhost:8080/",
     "height": 174
    },
    "id": "fJAd5X3xojcz",
    "outputId": "fb6ae12e-2883-4c1f-e676-d16642d040c5",
    "ExecuteTime": {
     "end_time": "2025-07-24T18:37:59.509462Z",
     "start_time": "2025-07-24T18:37:59.504079Z"
    }
   },
   "outputs": [
    {
     "data": {
      "text/plain": [
       "                 Total Spend  Items Purchased  Average Rating\n",
       "Membership Type                                              \n",
       "Gold                 1311.14            17.62            4.68\n",
       "Silver                748.43            11.66            4.05\n",
       "Bronze                473.39             8.49            3.32"
      ],
      "text/html": [
       "<div>\n",
       "<style scoped>\n",
       "    .dataframe tbody tr th:only-of-type {\n",
       "        vertical-align: middle;\n",
       "    }\n",
       "\n",
       "    .dataframe tbody tr th {\n",
       "        vertical-align: top;\n",
       "    }\n",
       "\n",
       "    .dataframe thead th {\n",
       "        text-align: right;\n",
       "    }\n",
       "</style>\n",
       "<table border=\"1\" class=\"dataframe\">\n",
       "  <thead>\n",
       "    <tr style=\"text-align: right;\">\n",
       "      <th></th>\n",
       "      <th>Total Spend</th>\n",
       "      <th>Items Purchased</th>\n",
       "      <th>Average Rating</th>\n",
       "    </tr>\n",
       "    <tr>\n",
       "      <th>Membership Type</th>\n",
       "      <th></th>\n",
       "      <th></th>\n",
       "      <th></th>\n",
       "    </tr>\n",
       "  </thead>\n",
       "  <tbody>\n",
       "    <tr>\n",
       "      <th>Gold</th>\n",
       "      <td>1311.14</td>\n",
       "      <td>17.62</td>\n",
       "      <td>4.68</td>\n",
       "    </tr>\n",
       "    <tr>\n",
       "      <th>Silver</th>\n",
       "      <td>748.43</td>\n",
       "      <td>11.66</td>\n",
       "      <td>4.05</td>\n",
       "    </tr>\n",
       "    <tr>\n",
       "      <th>Bronze</th>\n",
       "      <td>473.39</td>\n",
       "      <td>8.49</td>\n",
       "      <td>3.32</td>\n",
       "    </tr>\n",
       "  </tbody>\n",
       "</table>\n",
       "</div>"
      ]
     },
     "execution_count": 68,
     "metadata": {},
     "output_type": "execute_result"
    }
   ],
   "execution_count": 68
  },
  {
   "cell_type": "code",
   "source": [
    "# Висновок: У текстовій комірці напишіть, який тип членства приносить найбільше доходу і є найбільш задоволеним.\n",
    "print(f\"Тип членства приносить найбільше доходу: {membership_type_analysis.index[0]}\")\n",
    "print(f\"І є найбільш задоволеним: {membership_type_analysis['Total Spend'].iloc[0]:.2f}\")\n",
    "\n"
   ],
   "metadata": {
    "colab": {
     "base_uri": "https://localhost:8080/"
    },
    "id": "ZO0XMzYZr6F_",
    "outputId": "f9248860-66af-4a1a-e79b-3bdedc66d31c",
    "ExecuteTime": {
     "end_time": "2025-07-24T18:37:59.573887Z",
     "start_time": "2025-07-24T18:37:59.571916Z"
    }
   },
   "outputs": [
    {
     "name": "stdout",
     "output_type": "stream",
     "text": [
      "Тип членства приносить найбільше доходу: Gold\n",
      "І є найбільш задоволеним: 1311.14\n"
     ]
    }
   ],
   "execution_count": 69
  },
  {
   "cell_type": "code",
   "source": [
    "# 3.2 Питання 2: Як знижки впливають на поведінку клієнтів?\n",
    "\n",
    "# Згрупуйте дані за стовпцем Discount Applied (True/False).\n",
    "# Порівняйте середні Total Spend та Items Purchased для клієнтів, які використовували знижку, і тих, хто ні.\n",
    "# Висновок: Чи дійсно клієнти зі знижками витрачають більше? Чи купують вони більше товарів?\n",
    "\n",
    "discount_analysis = df.groupby(\"Discount Applied\").agg(\n",
    "    {\n",
    "        \"Total Spend\" : \"mean\",\n",
    "        \"Items Purchased\" : \"mean\",\n",
    "        \"Average Rating\" : \"mean\"\n",
    "    }\n",
    ")\n",
    "\n",
    "discount_analysis.head()"
   ],
   "metadata": {
    "colab": {
     "base_uri": "https://localhost:8080/",
     "height": 143
    },
    "id": "Cvx_y_HLvRM9",
    "outputId": "9318bb36-a4e7-4461-9053-1ed9afc5481f",
    "ExecuteTime": {
     "end_time": "2025-07-24T18:37:59.652531Z",
     "start_time": "2025-07-24T18:37:59.647535Z"
    }
   },
   "outputs": [
    {
     "data": {
      "text/plain": [
       "                  Total Spend  Items Purchased  Average Rating\n",
       "Discount Applied                                              \n",
       "False                  903.49            13.07            4.06\n",
       "True                   787.27            12.13            3.98"
      ],
      "text/html": [
       "<div>\n",
       "<style scoped>\n",
       "    .dataframe tbody tr th:only-of-type {\n",
       "        vertical-align: middle;\n",
       "    }\n",
       "\n",
       "    .dataframe tbody tr th {\n",
       "        vertical-align: top;\n",
       "    }\n",
       "\n",
       "    .dataframe thead th {\n",
       "        text-align: right;\n",
       "    }\n",
       "</style>\n",
       "<table border=\"1\" class=\"dataframe\">\n",
       "  <thead>\n",
       "    <tr style=\"text-align: right;\">\n",
       "      <th></th>\n",
       "      <th>Total Spend</th>\n",
       "      <th>Items Purchased</th>\n",
       "      <th>Average Rating</th>\n",
       "    </tr>\n",
       "    <tr>\n",
       "      <th>Discount Applied</th>\n",
       "      <th></th>\n",
       "      <th></th>\n",
       "      <th></th>\n",
       "    </tr>\n",
       "  </thead>\n",
       "  <tbody>\n",
       "    <tr>\n",
       "      <th>False</th>\n",
       "      <td>903.49</td>\n",
       "      <td>13.07</td>\n",
       "      <td>4.06</td>\n",
       "    </tr>\n",
       "    <tr>\n",
       "      <th>True</th>\n",
       "      <td>787.27</td>\n",
       "      <td>12.13</td>\n",
       "      <td>3.98</td>\n",
       "    </tr>\n",
       "  </tbody>\n",
       "</table>\n",
       "</div>"
      ]
     },
     "execution_count": 70,
     "metadata": {},
     "output_type": "execute_result"
    }
   ],
   "execution_count": 70
  },
  {
   "cell_type": "code",
   "source": [
    "# Висновок: Чи дійсно клієнти зі знижками витрачають більше? Чи купують вони більше товарів?\n",
    "total_spend_with_discount = discount_analysis.loc[False, 'Total Spend']\n",
    "total_spend_without_discount = discount_analysis.loc[True, 'Total Spend']\n",
    "spend_diff = total_spend_with_discount - total_spend_without_discount\n",
    "\n",
    "print(f\"Клієнти зі знижкою витрачають: {total_spend_with_discount:.2f}\")\n",
    "print(f\"Клієнти без знижки витрачають: {total_spend_without_discount:.2f}\")\n",
    "print(f\"Клієнти зі знижкою витрачають більше на {spend_diff:.2f}\")"
   ],
   "metadata": {
    "colab": {
     "base_uri": "https://localhost:8080/"
    },
    "id": "6roRrjajvqZG",
    "outputId": "0589a4ef-3d82-4fb3-b809-e9f349741aed",
    "ExecuteTime": {
     "end_time": "2025-07-24T18:37:59.800943Z",
     "start_time": "2025-07-24T18:37:59.797962Z"
    }
   },
   "outputs": [
    {
     "name": "stdout",
     "output_type": "stream",
     "text": [
      "Клієнти зі знижкою витрачають: 903.49\n",
      "Клієнти без знижки витрачають: 787.27\n",
      "Клієнти зі знижкою витрачають більше на 116.22\n"
     ]
    }
   ],
   "execution_count": 71
  },
  {
   "cell_type": "code",
   "source": [
    "# 3.3 Питання 3: Які вікові групи є найбільш активними та платоспроможними?\n",
    "# Знайдіть 5 наймолодших та 5 найстарших клієнтів у датасеті.\n",
    "# Порівняйте їхні середні витрати (Total Spend) та активність (Days Since Last Purchase).\n",
    "# Висновок: Чи є помітна різниця в купівельній поведінці між різними поколіннями?\n",
    "\n",
    "# Знайдіть 5 наймолодших\n",
    "youngest_df = df.nsmallest(5, 'Age')\n",
    "\n",
    "# Знайдіть 5 найстарших\n",
    "oldest_df = df.nlargest(5, 'Age')"
   ],
   "metadata": {
    "id": "85_qzrwEfk_v",
    "ExecuteTime": {
     "end_time": "2025-07-24T18:37:59.837953Z",
     "start_time": "2025-07-24T18:37:59.833685Z"
    }
   },
   "outputs": [],
   "execution_count": 72
  },
  {
   "cell_type": "code",
   "source": [
    "young_avg_mean = youngest_df[['Total Spend', 'Days Since Last Purchase']].mean()\n",
    "oldest_avg_mean = oldest_df[['Total Spend', 'Days Since Last Purchase']].mean()\n",
    "age_mean_diff =  (young_avg_mean['Total Spend'] - oldest_avg_mean['Total Spend'])\n",
    "\n",
    "print(f\"Середні витрати молодих: {young_avg_mean['Total Spend']:.2f}\")\n",
    "print(f\"Середні витрати старших: {oldest_avg_mean['Total Spend']:.2f}\")\n",
    "print(f\"Молодші витрачають більше на {age_mean_diff:.2f}\")"
   ],
   "metadata": {
    "colab": {
     "base_uri": "https://localhost:8080/"
    },
    "id": "s90OQjTPz7t-",
    "outputId": "25ccc1a5-b821-4dc4-e7a8-cac40c99c5d8",
    "ExecuteTime": {
     "end_time": "2025-07-24T18:37:59.860573Z",
     "start_time": "2025-07-24T18:37:59.857008Z"
    }
   },
   "outputs": [
    {
     "name": "stdout",
     "output_type": "stream",
     "text": [
      "Середні витрати молодих: 692.60\n",
      "Середні витрати старших: 504.75\n",
      "Молодші витрачають більше на 187.85\n"
     ]
    }
   ],
   "execution_count": 73
  },
  {
   "cell_type": "code",
   "source": [
    "df.head(5)"
   ],
   "metadata": {
    "colab": {
     "base_uri": "https://localhost:8080/",
     "height": 240
    },
    "id": "5mzQq5V6i3Ic",
    "outputId": "209bc7dd-cac1-4b57-de91-e79337cb0f66",
    "ExecuteTime": {
     "end_time": "2025-07-24T18:37:59.878466Z",
     "start_time": "2025-07-24T18:37:59.873555Z"
    }
   },
   "outputs": [
    {
     "data": {
      "text/plain": [
       "   Customer ID  Gender  Age           City Membership Type  Total Spend  \\\n",
       "0          101  Female   29       New York            Gold      1120.20   \n",
       "1          102    Male   34    Los Angeles          Silver       780.50   \n",
       "2          103  Female   43        Chicago          Bronze       510.75   \n",
       "3          104    Male   30  San Francisco            Gold      1480.30   \n",
       "4          105    Male   27          Miami          Silver       720.40   \n",
       "\n",
       "   Items Purchased  Average Rating  Discount Applied  \\\n",
       "0               14            4.60              True   \n",
       "1               11            4.10             False   \n",
       "2                9            3.40              True   \n",
       "3               19            4.70             False   \n",
       "4               13            4.00              True   \n",
       "\n",
       "   Days Since Last Purchase Satisfaction Level  Avg Spend per Item  \\\n",
       "0                        25          Satisfied               80.01   \n",
       "1                        18            Neutral               70.95   \n",
       "2                        42        Unsatisfied               56.75   \n",
       "3                        12          Satisfied               77.91   \n",
       "4                        55        Unsatisfied               55.42   \n",
       "\n",
       "  Activity Status  \n",
       "0          Active  \n",
       "1          Active  \n",
       "2        Inactive  \n",
       "3          Active  \n",
       "4        Inactive  "
      ],
      "text/html": [
       "<div>\n",
       "<style scoped>\n",
       "    .dataframe tbody tr th:only-of-type {\n",
       "        vertical-align: middle;\n",
       "    }\n",
       "\n",
       "    .dataframe tbody tr th {\n",
       "        vertical-align: top;\n",
       "    }\n",
       "\n",
       "    .dataframe thead th {\n",
       "        text-align: right;\n",
       "    }\n",
       "</style>\n",
       "<table border=\"1\" class=\"dataframe\">\n",
       "  <thead>\n",
       "    <tr style=\"text-align: right;\">\n",
       "      <th></th>\n",
       "      <th>Customer ID</th>\n",
       "      <th>Gender</th>\n",
       "      <th>Age</th>\n",
       "      <th>City</th>\n",
       "      <th>Membership Type</th>\n",
       "      <th>Total Spend</th>\n",
       "      <th>Items Purchased</th>\n",
       "      <th>Average Rating</th>\n",
       "      <th>Discount Applied</th>\n",
       "      <th>Days Since Last Purchase</th>\n",
       "      <th>Satisfaction Level</th>\n",
       "      <th>Avg Spend per Item</th>\n",
       "      <th>Activity Status</th>\n",
       "    </tr>\n",
       "  </thead>\n",
       "  <tbody>\n",
       "    <tr>\n",
       "      <th>0</th>\n",
       "      <td>101</td>\n",
       "      <td>Female</td>\n",
       "      <td>29</td>\n",
       "      <td>New York</td>\n",
       "      <td>Gold</td>\n",
       "      <td>1120.20</td>\n",
       "      <td>14</td>\n",
       "      <td>4.60</td>\n",
       "      <td>True</td>\n",
       "      <td>25</td>\n",
       "      <td>Satisfied</td>\n",
       "      <td>80.01</td>\n",
       "      <td>Active</td>\n",
       "    </tr>\n",
       "    <tr>\n",
       "      <th>1</th>\n",
       "      <td>102</td>\n",
       "      <td>Male</td>\n",
       "      <td>34</td>\n",
       "      <td>Los Angeles</td>\n",
       "      <td>Silver</td>\n",
       "      <td>780.50</td>\n",
       "      <td>11</td>\n",
       "      <td>4.10</td>\n",
       "      <td>False</td>\n",
       "      <td>18</td>\n",
       "      <td>Neutral</td>\n",
       "      <td>70.95</td>\n",
       "      <td>Active</td>\n",
       "    </tr>\n",
       "    <tr>\n",
       "      <th>2</th>\n",
       "      <td>103</td>\n",
       "      <td>Female</td>\n",
       "      <td>43</td>\n",
       "      <td>Chicago</td>\n",
       "      <td>Bronze</td>\n",
       "      <td>510.75</td>\n",
       "      <td>9</td>\n",
       "      <td>3.40</td>\n",
       "      <td>True</td>\n",
       "      <td>42</td>\n",
       "      <td>Unsatisfied</td>\n",
       "      <td>56.75</td>\n",
       "      <td>Inactive</td>\n",
       "    </tr>\n",
       "    <tr>\n",
       "      <th>3</th>\n",
       "      <td>104</td>\n",
       "      <td>Male</td>\n",
       "      <td>30</td>\n",
       "      <td>San Francisco</td>\n",
       "      <td>Gold</td>\n",
       "      <td>1480.30</td>\n",
       "      <td>19</td>\n",
       "      <td>4.70</td>\n",
       "      <td>False</td>\n",
       "      <td>12</td>\n",
       "      <td>Satisfied</td>\n",
       "      <td>77.91</td>\n",
       "      <td>Active</td>\n",
       "    </tr>\n",
       "    <tr>\n",
       "      <th>4</th>\n",
       "      <td>105</td>\n",
       "      <td>Male</td>\n",
       "      <td>27</td>\n",
       "      <td>Miami</td>\n",
       "      <td>Silver</td>\n",
       "      <td>720.40</td>\n",
       "      <td>13</td>\n",
       "      <td>4.00</td>\n",
       "      <td>True</td>\n",
       "      <td>55</td>\n",
       "      <td>Unsatisfied</td>\n",
       "      <td>55.42</td>\n",
       "      <td>Inactive</td>\n",
       "    </tr>\n",
       "  </tbody>\n",
       "</table>\n",
       "</div>"
      ]
     },
     "execution_count": 74,
     "metadata": {},
     "output_type": "execute_result"
    }
   ],
   "execution_count": 74
  },
  {
   "cell_type": "code",
   "source": [
    "# Питання 4: Чи дійсно жінки з Gold-членством мають вищий рівень задоволеності, ніж чоловіки з тим же статусом?\n",
    "\n",
    "# 3.1\n",
    "# Виберіть всіх членів з Gold статусом та згрупуйте їх у по рівні задоволеності (Satisfaction Level) та гендеру (Gender)\n",
    "gold_membership_df= df[df['Membership Type']=='Gold']\n",
    "\n",
    "gold_grouped = gold_membership_df.groupby(['Satisfaction Level','Gender']).size()\n",
    "\n",
    "# 3.2\n",
    "# Розрахуйте відсоток для жінок і для чоловіків і порівняйте їх.\n",
    "male_count = gold_grouped.loc[('Satisfied', 'Male')]\n",
    "female_count = gold_grouped.loc[('Satisfied', 'Female')]\n",
    "\n",
    "total_satisfied = male_count + female_count\n",
    "female_percent = (female_count / total_satisfied) * 100\n",
    "male_percent = (male_count / total_satisfied) * 100\n",
    "\n",
    "# 3.3\n",
    "# Висновок: Чи дійсно жінки мають вищий рівень задоволеності, ніж чоловіки?\n",
    "print(f\"Чоловіки мають рівень 'Заволення': {male_percent:.2f}, а жінки: {female_percent:.2f}, рівень задоволення майже одинаковий\")\n"
   ],
   "metadata": {
    "colab": {
     "base_uri": "https://localhost:8080/"
    },
    "id": "0FhrSSVNinZJ",
    "outputId": "e91bde11-1b55-4a3f-d6a4-a3e20db6589a",
    "ExecuteTime": {
     "end_time": "2025-07-24T18:37:59.917929Z",
     "start_time": "2025-07-24T18:37:59.913667Z"
    }
   },
   "outputs": [
    {
     "name": "stdout",
     "output_type": "stream",
     "text": [
      "Чоловіки мають рівень 'Заволення': 50.43, а жінки: 49.57, рівень задоволення майже одинаковий\n"
     ]
    }
   ],
   "execution_count": 75
  },
  {
   "cell_type": "code",
   "source": [
    "df.plot(title=\"DataFrame Plot\")"
   ],
   "metadata": {
    "colab": {
     "base_uri": "https://localhost:8080/",
     "height": 469
    },
    "id": "Rxt1NC1fC295",
    "outputId": "5efd7139-3327-4014-be15-87e4a9323dbf",
    "ExecuteTime": {
     "end_time": "2025-07-24T18:38:00.170216Z",
     "start_time": "2025-07-24T18:37:59.951910Z"
    }
   },
   "outputs": [
    {
     "data": {
      "text/plain": [
       "<Axes: title={'center': 'DataFrame Plot'}>"
      ]
     },
     "execution_count": 76,
     "metadata": {},
     "output_type": "execute_result"
    },
    {
     "data": {
      "text/plain": [
       "<Figure size 640x480 with 1 Axes>"
      ],
      "image/png": "[encoded data removed]"
     },
     "metadata": {},
     "output_type": "display_data"
    }
   ],
   "execution_count": 76
  },
  {
   "cell_type": "code",
   "source": [
    "# Частина 4: Візуалізація результатів\n",
    "# Представте ваші знахідки у вигляді графіків.\n",
    "\n",
    "# 4.1 Графік 1: Створіть стовпчасту діаграму (bar chart), яка порівнює середні витрати (Total Spend) для кожного Membership Type.\n",
    "avg_spend_per_membership_type_df = df.groupby('Membership Type')['Total Spend'].mean()\n",
    "avg_spend_per_membership_type_df.plot(kind='bar', title='Середні витрати по членству', xlabel='Membership Type', ylabel='Середні витрати')"
   ],
   "metadata": {
    "id": "awNssmEojPIy",
    "colab": {
     "base_uri": "https://localhost:8080/",
     "height": 523
    },
    "outputId": "69da0d0e-f93d-4b0c-eff7-17a2d2f0e442",
    "ExecuteTime": {
     "end_time": "2025-07-24T18:38:00.262658Z",
     "start_time": "2025-07-24T18:38:00.192884Z"
    }
   },
   "outputs": [
    {
     "data": {
      "text/plain": [
       "<Axes: title={'center': 'Середні витрати по членству'}, xlabel='Membership Type', ylabel='Середні витрати'>"
      ]
     },
     "execution_count": 77,
     "metadata": {},
     "output_type": "execute_result"
    },
    {
     "data": {
      "text/plain": [
       "<Figure size 640x480 with 1 Axes>"
      ],
      "image/png": "[encoded data removed]"
     },
     "metadata": {},
     "output_type": "display_data"
    }
   ],
   "execution_count": 77
  },
  {
   "cell_type": "code",
   "source": [
    "\n",
    "# 4.2 Графік 2: Створіть діаграму розсіювання (scatter plot), щоб візуалізувати зв'язок між віком (Age) та загальними витратами (Total Spend).\n",
    "\n",
    "df.plot(\n",
    "    kind='scatter',\n",
    "    x='Age',\n",
    "    y='Total Spend',\n",
    "    title='Звʼязок між віком та витратами',\n",
    "    xlabel='Вік',\n",
    "    ylabel='Total Spend'\n",
    ")\n",
    "# 4.3 Вимоги: Кожен графік повинен мати інформативний заголовок та підписані осі.\n"
   ],
   "metadata": {
    "colab": {
     "base_uri": "https://localhost:8080/",
     "height": 489
    },
    "id": "Q8XZSI_s__ls",
    "outputId": "cb8320ac-7ba4-480e-f933-016f8f5d90b3",
    "ExecuteTime": {
     "end_time": "2025-07-24T18:38:00.347906Z",
     "start_time": "2025-07-24T18:38:00.281273Z"
    }
   },
   "outputs": [
    {
     "data": {
      "text/plain": [
       "<Axes: title={'center': 'Звʼязок між віком та витратами'}, xlabel='Вік', ylabel='Total Spend'>"
      ]
     },
     "execution_count": 78,
     "metadata": {},
     "output_type": "execute_result"
    },
    {
     "data": {
      "text/plain": [
       "<Figure size 640x480 with 1 Axes>"
      ],
      "image/png": "[encoded data removed]"
     },
     "metadata": {},
     "output_type": "display_data"
    }
   ],
   "execution_count": 78
  },
  {
   "cell_type": "code",
   "source": [
    "# 5.1 Бонусні завдання (додаткові бали)\n",
    "\n",
    "# Бонус 1: Розширений аналіз сегментації.\n",
    "# Створіть новий сегмент клієнтів \"VIP\", до якого належать клієнти з Membership Type = 'Gold' та Total Spend > середнього по всьому датасету.\n",
    "# Порівняйте середній рейтинг (Average Rating) та рівень задоволеності (Satisfaction Level) \"VIP\" клієнтів з усіма іншими.\n",
    "\n",
    "# Створюємо VIP-сегмент\n",
    "vip_clients_df = df[\n",
    "    (df['Membership Type'] == 'Gold') &\n",
    "    (df['Total Spend'] > df['Total Spend'].mean())\n",
    "]\n",
    "non_vip_clients_df = df.drop(vip_clients_df.index)\n",
    "\n",
    "# Середній рейтинг\n",
    "vip_avg_rating = vip_clients_df['Average Rating'].mean()\n",
    "non_vip_avg_rating = non_vip_clients_df['Average Rating'].mean()\n",
    "\n",
    "# Рівень задоволеності (у відсотках)\n",
    "vip_satisfaction = vip_clients_df['Satisfaction Level'].value_counts(normalize=True) * 100\n",
    "non_vip_satisfaction = non_vip_clients_df['Satisfaction Level'].value_counts(normalize=True) * 100\n",
    "\n",
    "# Вивід результатів\n",
    "print(f\"Середній рейтинг: VIP: {vip_avg_rating:.2f}, Інші: {non_vip_avg_rating:.2f}\")\n",
    "print(f\"Рівень задоволеності VIP: {vip_satisfaction.round(2).to_dict()}\")\n",
    "print(f\"Рівень задоволеності Інші: {non_vip_satisfaction.round(2).to_dict()}\")"
   ],
   "metadata": {
    "colab": {
     "base_uri": "https://localhost:8080/"
    },
    "id": "Iu9SoVCbH19n",
    "outputId": "70cc3f42-278e-46f0-c863-3f296c7d5bcf",
    "ExecuteTime": {
     "end_time": "2025-07-24T18:38:00.386243Z",
     "start_time": "2025-07-24T18:38:00.381025Z"
    }
   },
   "outputs": [
    {
     "name": "stdout",
     "output_type": "stream",
     "text": [
      "Середній рейтинг: VIP: 4.68, Інші: 3.69\n",
      "Рівень задоволеності VIP: {'Satisfied': 100.0}\n",
      "Рівень задоволеності Інші: {'Unsatisfied': 50.22, 'Neutral': 46.32, 'Satisfied': 3.46}\n"
     ]
    }
   ],
   "execution_count": 79
  },
  {
   "cell_type": "code",
   "source": [
    "# 5.2 Бонус 2: Аналіз кореляцій.\n",
    "# Створіть кореляційну матрицю для всіх числових стовпців у датасеті.\n",
    "# У текстовій комірці вкажіть, які дві змінні мають найсильнішу позитивну кореляцію, і поясніть, що це може означати.\n",
    "\n",
    "correlation_matrix = df.corr(numeric_only=True)\n",
    "print(correlation_matrix.round(2))\n",
    "\n",
    "\n",
    "# Знаходимо найсильнішу позитивну кореляцію (крім 1.0 по діагоналі)\n",
    "corr_pairs = correlation_matrix.unstack().sort_values(ascending=False)\n",
    "strongest_pair = corr_pairs[corr_pairs < 1.0].idxmax()\n",
    "strongest_value = corr_pairs[corr_pairs < 1.0].max()\n",
    "\n",
    "print(f\"Найсильніша позитивна кореляція: {strongest_pair[0]} - {strongest_pair[1]} ({strongest_value:.2f})\")\n",
    "print(\"Більше покупок — більше витрат: найсильніша кореляція між Total Spend і Items Purchased.\")\n",
    "correlation_matrix = df.corr(numeric_only=True)\n",
    "correlation_matrix.style.background_gradient(cmap='coolwarm').format(\"{:.2f}\")"
   ],
   "metadata": {
    "colab": {
     "base_uri": "https://localhost:8080/",
     "height": 838
    },
    "id": "pG5yJqgkJ4O_",
    "outputId": "9eb37515-332c-4ccf-f208-754aec47b49c",
    "ExecuteTime": {
     "end_time": "2025-07-24T18:38:00.418850Z",
     "start_time": "2025-07-24T18:38:00.404993Z"
    }
   },
   "outputs": [
    {
     "name": "stdout",
     "output_type": "stream",
     "text": [
      "                          Customer ID   Age  Total Spend  Items Purchased  \\\n",
      "Customer ID                      1.00  0.01        -0.01            -0.00   \n",
      "Age                              0.01  1.00        -0.68            -0.69   \n",
      "Total Spend                     -0.01 -0.68         1.00             0.97   \n",
      "Items Purchased                 -0.00 -0.69         0.97             1.00   \n",
      "Average Rating                  -0.00 -0.72         0.94             0.92   \n",
      "Discount Applied                -0.00  0.06        -0.16            -0.11   \n",
      "Days Since Last Purchase         0.12  0.17        -0.54            -0.42   \n",
      "Avg Spend per Item              -0.01 -0.55         0.79             0.63   \n",
      "\n",
      "                          Average Rating  Discount Applied  \\\n",
      "Customer ID                        -0.00             -0.00   \n",
      "Age                                -0.72              0.06   \n",
      "Total Spend                         0.94             -0.16   \n",
      "Items Purchased                     0.92             -0.11   \n",
      "Average Rating                      1.00             -0.07   \n",
      "Discount Applied                   -0.07              1.00   \n",
      "Days Since Last Purchase           -0.43              0.76   \n",
      "Avg Spend per Item                  0.77             -0.21   \n",
      "\n",
      "                          Days Since Last Purchase  Avg Spend per Item  \n",
      "Customer ID                                   0.12               -0.01  \n",
      "Age                                           0.17               -0.55  \n",
      "Total Spend                                  -0.54                0.79  \n",
      "Items Purchased                              -0.42                0.63  \n",
      "Average Rating                               -0.43                0.77  \n",
      "Discount Applied                              0.76               -0.21  \n",
      "Days Since Last Purchase                      1.00               -0.66  \n",
      "Avg Spend per Item                           -0.66                1.00  \n",
      "Найсильніша позитивна кореляція: Total Spend - Items Purchased (0.97)\n",
      "Більше покупок — більше витрат: найсильніша кореляція між Total Spend і Items Purchased.\n"
     ]
    },
    {
     "data": {
      "text/plain": [
       "<pandas.io.formats.style.Styler at 0x137325960>"
      ],
      "text/html": [
       "<style type=\"text/css\">\n",
       "#T_273b1_row0_col0, #T_273b1_row1_col1, #T_273b1_row2_col2, #T_273b1_row3_col3, #T_273b1_row4_col4, #T_273b1_row5_col5, #T_273b1_row6_col6, #T_273b1_row7_col7 {\n",
       "  background-color: #b40426;\n",
       "  color: #f1f1f1;\n",
       "}\n",
       "#T_273b1_row0_col1 {\n",
       "  background-color: #c9d7f0;\n",
       "  color: #000000;\n",
       "}\n",
       "#T_273b1_row0_col2 {\n",
       "  background-color: #c0d4f5;\n",
       "  color: #000000;\n",
       "}\n",
       "#T_273b1_row0_col3 {\n",
       "  background-color: #c1d4f4;\n",
       "  color: #000000;\n",
       "}\n",
       "#T_273b1_row0_col4 {\n",
       "  background-color: #c6d6f1;\n",
       "  color: #000000;\n",
       "}\n",
       "#T_273b1_row0_col5 {\n",
       "  background-color: #7396f5;\n",
       "  color: #f1f1f1;\n",
       "}\n",
       "#T_273b1_row0_col6 {\n",
       "  background-color: #d5dbe5;\n",
       "  color: #000000;\n",
       "}\n",
       "#T_273b1_row0_col7 {\n",
       "  background-color: #bed2f6;\n",
       "  color: #000000;\n",
       "}\n",
       "#T_273b1_row1_col0, #T_273b1_row3_col1 {\n",
       "  background-color: #4055c8;\n",
       "  color: #f1f1f1;\n",
       "}\n",
       "#T_273b1_row1_col2, #T_273b1_row1_col3, #T_273b1_row1_col4, #T_273b1_row2_col0, #T_273b1_row4_col1, #T_273b1_row6_col7, #T_273b1_row7_col0, #T_273b1_row7_col5, #T_273b1_row7_col6 {\n",
       "  background-color: #3b4cc0;\n",
       "  color: #f1f1f1;\n",
       "}\n",
       "#T_273b1_row1_col5 {\n",
       "  background-color: #84a7fc;\n",
       "  color: #f1f1f1;\n",
       "}\n",
       "#T_273b1_row1_col6 {\n",
       "  background-color: #dddcdc;\n",
       "  color: #000000;\n",
       "}\n",
       "#T_273b1_row1_col7 {\n",
       "  background-color: #4f69d9;\n",
       "  color: #f1f1f1;\n",
       "}\n",
       "#T_273b1_row2_col1 {\n",
       "  background-color: #4257c9;\n",
       "  color: #f1f1f1;\n",
       "}\n",
       "#T_273b1_row2_col3, #T_273b1_row3_col2 {\n",
       "  background-color: #ba162b;\n",
       "  color: #f1f1f1;\n",
       "}\n",
       "#T_273b1_row2_col4, #T_273b1_row4_col2 {\n",
       "  background-color: #c0282f;\n",
       "  color: #f1f1f1;\n",
       "}\n",
       "#T_273b1_row2_col5 {\n",
       "  background-color: #485fd1;\n",
       "  color: #f1f1f1;\n",
       "}\n",
       "#T_273b1_row2_col6 {\n",
       "  background-color: #506bda;\n",
       "  color: #f1f1f1;\n",
       "}\n",
       "#T_273b1_row2_col7, #T_273b1_row7_col2 {\n",
       "  background-color: #de614d;\n",
       "  color: #f1f1f1;\n",
       "}\n",
       "#T_273b1_row3_col0 {\n",
       "  background-color: #3c4ec2;\n",
       "  color: #f1f1f1;\n",
       "}\n",
       "#T_273b1_row3_col4, #T_273b1_row4_col3 {\n",
       "  background-color: #c43032;\n",
       "  color: #f1f1f1;\n",
       "}\n",
       "#T_273b1_row3_col5, #T_273b1_row6_col2 {\n",
       "  background-color: #5470de;\n",
       "  color: #f1f1f1;\n",
       "}\n",
       "#T_273b1_row3_col6 {\n",
       "  background-color: #688aef;\n",
       "  color: #f1f1f1;\n",
       "}\n",
       "#T_273b1_row3_col7, #T_273b1_row7_col3 {\n",
       "  background-color: #f18d6f;\n",
       "  color: #f1f1f1;\n",
       "}\n",
       "#T_273b1_row4_col0, #T_273b1_row5_col0 {\n",
       "  background-color: #3d50c3;\n",
       "  color: #f1f1f1;\n",
       "}\n",
       "#T_273b1_row4_col5 {\n",
       "  background-color: #5f7fe8;\n",
       "  color: #f1f1f1;\n",
       "}\n",
       "#T_273b1_row4_col6 {\n",
       "  background-color: #6687ed;\n",
       "  color: #f1f1f1;\n",
       "}\n",
       "#T_273b1_row4_col7 {\n",
       "  background-color: #e16751;\n",
       "  color: #f1f1f1;\n",
       "}\n",
       "#T_273b1_row5_col1 {\n",
       "  background-color: #cfdaea;\n",
       "  color: #000000;\n",
       "}\n",
       "#T_273b1_row5_col2 {\n",
       "  background-color: #a1c0ff;\n",
       "  color: #000000;\n",
       "}\n",
       "#T_273b1_row5_col3 {\n",
       "  background-color: #abc8fd;\n",
       "  color: #000000;\n",
       "}\n",
       "#T_273b1_row5_col4 {\n",
       "  background-color: #bad0f8;\n",
       "  color: #000000;\n",
       "}\n",
       "#T_273b1_row5_col6 {\n",
       "  background-color: #e36b54;\n",
       "  color: #f1f1f1;\n",
       "}\n",
       "#T_273b1_row5_col7 {\n",
       "  background-color: #94b6ff;\n",
       "  color: #000000;\n",
       "}\n",
       "#T_273b1_row6_col0 {\n",
       "  background-color: #6282ea;\n",
       "  color: #f1f1f1;\n",
       "}\n",
       "#T_273b1_row6_col1 {\n",
       "  background-color: #e1dad6;\n",
       "  color: #000000;\n",
       "}\n",
       "#T_273b1_row6_col3 {\n",
       "  background-color: #6c8ff1;\n",
       "  color: #f1f1f1;\n",
       "}\n",
       "#T_273b1_row6_col4 {\n",
       "  background-color: #7093f3;\n",
       "  color: #f1f1f1;\n",
       "}\n",
       "#T_273b1_row6_col5 {\n",
       "  background-color: #ed8366;\n",
       "  color: #f1f1f1;\n",
       "}\n",
       "#T_273b1_row7_col1 {\n",
       "  background-color: #5977e3;\n",
       "  color: #f1f1f1;\n",
       "}\n",
       "#T_273b1_row7_col4 {\n",
       "  background-color: #e0654f;\n",
       "  color: #f1f1f1;\n",
       "}\n",
       "</style>\n",
       "<table id=\"T_273b1\">\n",
       "  <thead>\n",
       "    <tr>\n",
       "      <th class=\"blank level0\" >&nbsp;</th>\n",
       "      <th id=\"T_273b1_level0_col0\" class=\"col_heading level0 col0\" >Customer ID</th>\n",
       "      <th id=\"T_273b1_level0_col1\" class=\"col_heading level0 col1\" >Age</th>\n",
       "      <th id=\"T_273b1_level0_col2\" class=\"col_heading level0 col2\" >Total Spend</th>\n",
       "      <th id=\"T_273b1_level0_col3\" class=\"col_heading level0 col3\" >Items Purchased</th>\n",
       "      <th id=\"T_273b1_level0_col4\" class=\"col_heading level0 col4\" >Average Rating</th>\n",
       "      <th id=\"T_273b1_level0_col5\" class=\"col_heading level0 col5\" >Discount Applied</th>\n",
       "      <th id=\"T_273b1_level0_col6\" class=\"col_heading level0 col6\" >Days Since Last Purchase</th>\n",
       "      <th id=\"T_273b1_level0_col7\" class=\"col_heading level0 col7\" >Avg Spend per Item</th>\n",
       "    </tr>\n",
       "  </thead>\n",
       "  <tbody>\n",
       "    <tr>\n",
       "      <th id=\"T_273b1_level0_row0\" class=\"row_heading level0 row0\" >Customer ID</th>\n",
       "      <td id=\"T_273b1_row0_col0\" class=\"data row0 col0\" >1.00</td>\n",
       "      <td id=\"T_273b1_row0_col1\" class=\"data row0 col1\" >0.01</td>\n",
       "      <td id=\"T_273b1_row0_col2\" class=\"data row0 col2\" >-0.01</td>\n",
       "      <td id=\"T_273b1_row0_col3\" class=\"data row0 col3\" >-0.00</td>\n",
       "      <td id=\"T_273b1_row0_col4\" class=\"data row0 col4\" >-0.00</td>\n",
       "      <td id=\"T_273b1_row0_col5\" class=\"data row0 col5\" >-0.00</td>\n",
       "      <td id=\"T_273b1_row0_col6\" class=\"data row0 col6\" >0.12</td>\n",
       "      <td id=\"T_273b1_row0_col7\" class=\"data row0 col7\" >-0.01</td>\n",
       "    </tr>\n",
       "    <tr>\n",
       "      <th id=\"T_273b1_level0_row1\" class=\"row_heading level0 row1\" >Age</th>\n",
       "      <td id=\"T_273b1_row1_col0\" class=\"data row1 col0\" >0.01</td>\n",
       "      <td id=\"T_273b1_row1_col1\" class=\"data row1 col1\" >1.00</td>\n",
       "      <td id=\"T_273b1_row1_col2\" class=\"data row1 col2\" >-0.68</td>\n",
       "      <td id=\"T_273b1_row1_col3\" class=\"data row1 col3\" >-0.69</td>\n",
       "      <td id=\"T_273b1_row1_col4\" class=\"data row1 col4\" >-0.72</td>\n",
       "      <td id=\"T_273b1_row1_col5\" class=\"data row1 col5\" >0.06</td>\n",
       "      <td id=\"T_273b1_row1_col6\" class=\"data row1 col6\" >0.17</td>\n",
       "      <td id=\"T_273b1_row1_col7\" class=\"data row1 col7\" >-0.55</td>\n",
       "    </tr>\n",
       "    <tr>\n",
       "      <th id=\"T_273b1_level0_row2\" class=\"row_heading level0 row2\" >Total Spend</th>\n",
       "      <td id=\"T_273b1_row2_col0\" class=\"data row2 col0\" >-0.01</td>\n",
       "      <td id=\"T_273b1_row2_col1\" class=\"data row2 col1\" >-0.68</td>\n",
       "      <td id=\"T_273b1_row2_col2\" class=\"data row2 col2\" >1.00</td>\n",
       "      <td id=\"T_273b1_row2_col3\" class=\"data row2 col3\" >0.97</td>\n",
       "      <td id=\"T_273b1_row2_col4\" class=\"data row2 col4\" >0.94</td>\n",
       "      <td id=\"T_273b1_row2_col5\" class=\"data row2 col5\" >-0.16</td>\n",
       "      <td id=\"T_273b1_row2_col6\" class=\"data row2 col6\" >-0.54</td>\n",
       "      <td id=\"T_273b1_row2_col7\" class=\"data row2 col7\" >0.79</td>\n",
       "    </tr>\n",
       "    <tr>\n",
       "      <th id=\"T_273b1_level0_row3\" class=\"row_heading level0 row3\" >Items Purchased</th>\n",
       "      <td id=\"T_273b1_row3_col0\" class=\"data row3 col0\" >-0.00</td>\n",
       "      <td id=\"T_273b1_row3_col1\" class=\"data row3 col1\" >-0.69</td>\n",
       "      <td id=\"T_273b1_row3_col2\" class=\"data row3 col2\" >0.97</td>\n",
       "      <td id=\"T_273b1_row3_col3\" class=\"data row3 col3\" >1.00</td>\n",
       "      <td id=\"T_273b1_row3_col4\" class=\"data row3 col4\" >0.92</td>\n",
       "      <td id=\"T_273b1_row3_col5\" class=\"data row3 col5\" >-0.11</td>\n",
       "      <td id=\"T_273b1_row3_col6\" class=\"data row3 col6\" >-0.42</td>\n",
       "      <td id=\"T_273b1_row3_col7\" class=\"data row3 col7\" >0.63</td>\n",
       "    </tr>\n",
       "    <tr>\n",
       "      <th id=\"T_273b1_level0_row4\" class=\"row_heading level0 row4\" >Average Rating</th>\n",
       "      <td id=\"T_273b1_row4_col0\" class=\"data row4 col0\" >-0.00</td>\n",
       "      <td id=\"T_273b1_row4_col1\" class=\"data row4 col1\" >-0.72</td>\n",
       "      <td id=\"T_273b1_row4_col2\" class=\"data row4 col2\" >0.94</td>\n",
       "      <td id=\"T_273b1_row4_col3\" class=\"data row4 col3\" >0.92</td>\n",
       "      <td id=\"T_273b1_row4_col4\" class=\"data row4 col4\" >1.00</td>\n",
       "      <td id=\"T_273b1_row4_col5\" class=\"data row4 col5\" >-0.07</td>\n",
       "      <td id=\"T_273b1_row4_col6\" class=\"data row4 col6\" >-0.43</td>\n",
       "      <td id=\"T_273b1_row4_col7\" class=\"data row4 col7\" >0.77</td>\n",
       "    </tr>\n",
       "    <tr>\n",
       "      <th id=\"T_273b1_level0_row5\" class=\"row_heading level0 row5\" >Discount Applied</th>\n",
       "      <td id=\"T_273b1_row5_col0\" class=\"data row5 col0\" >-0.00</td>\n",
       "      <td id=\"T_273b1_row5_col1\" class=\"data row5 col1\" >0.06</td>\n",
       "      <td id=\"T_273b1_row5_col2\" class=\"data row5 col2\" >-0.16</td>\n",
       "      <td id=\"T_273b1_row5_col3\" class=\"data row5 col3\" >-0.11</td>\n",
       "      <td id=\"T_273b1_row5_col4\" class=\"data row5 col4\" >-0.07</td>\n",
       "      <td id=\"T_273b1_row5_col5\" class=\"data row5 col5\" >1.00</td>\n",
       "      <td id=\"T_273b1_row5_col6\" class=\"data row5 col6\" >0.76</td>\n",
       "      <td id=\"T_273b1_row5_col7\" class=\"data row5 col7\" >-0.21</td>\n",
       "    </tr>\n",
       "    <tr>\n",
       "      <th id=\"T_273b1_level0_row6\" class=\"row_heading level0 row6\" >Days Since Last Purchase</th>\n",
       "      <td id=\"T_273b1_row6_col0\" class=\"data row6 col0\" >0.12</td>\n",
       "      <td id=\"T_273b1_row6_col1\" class=\"data row6 col1\" >0.17</td>\n",
       "      <td id=\"T_273b1_row6_col2\" class=\"data row6 col2\" >-0.54</td>\n",
       "      <td id=\"T_273b1_row6_col3\" class=\"data row6 col3\" >-0.42</td>\n",
       "      <td id=\"T_273b1_row6_col4\" class=\"data row6 col4\" >-0.43</td>\n",
       "      <td id=\"T_273b1_row6_col5\" class=\"data row6 col5\" >0.76</td>\n",
       "      <td id=\"T_273b1_row6_col6\" class=\"data row6 col6\" >1.00</td>\n",
       "      <td id=\"T_273b1_row6_col7\" class=\"data row6 col7\" >-0.66</td>\n",
       "    </tr>\n",
       "    <tr>\n",
       "      <th id=\"T_273b1_level0_row7\" class=\"row_heading level0 row7\" >Avg Spend per Item</th>\n",
       "      <td id=\"T_273b1_row7_col0\" class=\"data row7 col0\" >-0.01</td>\n",
       "      <td id=\"T_273b1_row7_col1\" class=\"data row7 col1\" >-0.55</td>\n",
       "      <td id=\"T_273b1_row7_col2\" class=\"data row7 col2\" >0.79</td>\n",
       "      <td id=\"T_273b1_row7_col3\" class=\"data row7 col3\" >0.63</td>\n",
       "      <td id=\"T_273b1_row7_col4\" class=\"data row7 col4\" >0.77</td>\n",
       "      <td id=\"T_273b1_row7_col5\" class=\"data row7 col5\" >-0.21</td>\n",
       "      <td id=\"T_273b1_row7_col6\" class=\"data row7 col6\" >-0.66</td>\n",
       "      <td id=\"T_273b1_row7_col7\" class=\"data row7 col7\" >1.00</td>\n",
       "    </tr>\n",
       "  </tbody>\n",
       "</table>\n"
      ]
     },
     "execution_count": 80,
     "metadata": {},
     "output_type": "execute_result"
    }
   ],
   "execution_count": 80
  },
  {
   "cell_type": "code",
   "source": [],
   "metadata": {
    "id": "fmWr4zNWP1fZ",
    "ExecuteTime": {
     "end_time": "2025-07-24T18:38:00.429271Z",
     "start_time": "2025-07-24T18:38:00.427371Z"
    }
   },
   "outputs": [],
   "execution_count": null
  }
 ]
}
